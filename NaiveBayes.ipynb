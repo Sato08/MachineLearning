{
 "cells": [
  {
   "cell_type": "markdown",
   "metadata": {},
   "source": [
    "#### Input: A matrix X of size NxD(N is number of sample, D is number of features); y is colunm vector of size Nx1 of values 1, 2, ..., K\n",
    "#### Output: Conditional probability matrix theta_jk of size DxK and prior distribution theta, which is a vecto of size K."
   ]
  },
  {
   "cell_type": "code",
   "execution_count": 1,
   "metadata": {},
   "outputs": [],
   "source": [
    "function [theta_jk, theta] = train(X, y)\n",
    "    [N, D] = size(X);\n",
    "    K = length(unique(y));\n",
    "    %prior distribution\n",
    "    theta = zeros(K, 1);\n",
    "    \n",
    "    %conditional likelihood\n",
    "    theta_jk = zeros(K, D);\n",
    "    \n",
    "    for k=1:K\n",
    "        theta(k) = sum(y == k);\n",
    "        idx = (y == k); %a colunm logic vecto of size N\n",
    "        \n",
    "        X_k = X(idx, :); %extract all samples in X that have label k\n",
    "        u_k= sum(X_k); %a row vector of size D\n",
    "        \n",
    "        theta_jk(k, :)= u_k/theta(k);\n",
    "    endfor\n",
    "    theta = theta/N; %sum(theta) = N\n",
    "endfunction"
   ]
  },
  {
   "cell_type": "code",
   "execution_count": 2,
   "metadata": {},
   "outputs": [],
   "source": [
    "function y = classify(x, theta_jk, theta_k)\n",
    "    [K, D] = size(theta_jk);\n",
    "    y = 1;\n",
    "    r = zeros(K, 1);\n",
    "    for k = 1: K\n",
    "        p_k = 1\n",
    "        for i = 1:D\n",
    "            if (x(i) == 1)\n",
    "                p_k = p_k * theta_jk(k, i);\n",
    "            else\n",
    "                p_k = p_k * (1 - theta_jk(k, i));\n",
    "            endif\n",
    "        endfor\n",
    "        r(k) = p_k * theta_k(k)\n",
    "        if (r(k) > r(y))\n",
    "             y = k\n",
    "        endif\n",
    "    endfor\n",
    "endfunction"
   ]
  },
  {
   "cell_type": "markdown",
   "metadata": {},
   "source": [
    "#### Evaluates the accuracy of our model on a new test set."
   ]
  },
  {
   "cell_type": "code",
   "execution_count": 3,
   "metadata": {},
   "outputs": [],
   "source": [
    "function accuracy = eval(X_test, y_test, theta_jk, theta_k)\n",
    "    M = length(y_test);\n",
    "    prediction = zeros(M, 1);\n",
    "    for i = 1:M\n",
    "        x = X_test(i, :);\n",
    "        prediction(i) = classify(x, theta_jk, theta_k)\n",
    "    endfor\n",
    "    % compare y_test and prediction\n",
    "    match = (y_test == prediction); % vector logic\n",
    "    accuracy = sum(match)/M * 100;\n",
    "endfunction"
   ]
  },
  {
   "cell_type": "code",
   "execution_count": 4,
   "metadata": {},
   "outputs": [],
   "source": [
    "function naiveBayes\n",
    "    A = load('weather.txt');\n",
    "    y = A(:, end);\n",
    "    X = A(:, 1 : (end - 1));\n",
    "    [theta_jk, theta] = train(X, y)\n",
    "    % prediction for a new sample\n",
    "    x = [1, 0, 1, 0];\n",
    "    y = classify(x, theta_jk, theta)\n",
    "endfunction"
   ]
  },
  {
   "cell_type": "code",
   "execution_count": 5,
   "metadata": {},
   "outputs": [
    {
     "name": "stdout",
     "output_type": "stream",
     "text": [
      "theta_jk =\n",
      "\n",
      "   0.25000   0.25000   0.50000   0.25000\n",
      "   0.50000   0.75000   0.75000   0.75000\n",
      "\n",
      "theta =\n",
      "\n",
      "   0.50000\n",
      "   0.50000\n",
      "\n",
      "p_k =  1\n",
      "r =\n",
      "\n",
      "   0.035156\n",
      "   0.000000\n",
      "\n",
      "p_k =  1\n",
      "r =\n",
      "\n",
      "   0.035156\n",
      "   0.011719\n",
      "\n",
      "y =  1\n"
     ]
    }
   ],
   "source": [
    "naiveBayes"
   ]
  },
  {
   "cell_type": "code",
   "execution_count": null,
   "metadata": {},
   "outputs": [],
   "source": []
  }
 ],
 "metadata": {
  "kernelspec": {
   "display_name": "Octave",
   "language": "octave",
   "name": "octave"
  },
  "language_info": {
   "file_extension": ".m",
   "help_links": [
    {
     "text": "GNU Octave",
     "url": "https://www.gnu.org/software/octave/support.html"
    },
    {
     "text": "Octave Kernel",
     "url": "https://github.com/Calysto/octave_kernel"
    },
    {
     "text": "MetaKernel Magics",
     "url": "https://metakernel.readthedocs.io/en/latest/source/README.html"
    }
   ],
   "mimetype": "text/x-octave",
   "name": "octave",
   "version": "5.1.0"
  }
 },
 "nbformat": 4,
 "nbformat_minor": 2
}
