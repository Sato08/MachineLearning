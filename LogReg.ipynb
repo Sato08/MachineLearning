{
 "cells": [
  {
   "cell_type": "code",
   "execution_count": 1,
   "metadata": {},
   "outputs": [],
   "source": [
    "function h = sigmoid(z)\n",
    "    h = 1 ./ (1 + exp(-z));\n",
    "end"
   ]
  },
  {
   "cell_type": "markdown",
   "metadata": {},
   "source": [
    "#### Cost for logistic Regression\n",
    "#### Theta: a column vector of length(D+1)\n",
    "#### X: design matrix of size Nx(D+1)\n",
    "#### y : column vector of length N"
   ]
  },
  {
   "cell_type": "code",
   "execution_count": 2,
   "metadata": {},
   "outputs": [],
   "source": [
    "function [J, dJ] = costLogReg(theta, X, y)\n",
    "    J = 0;\n",
    "    [N, D] = size(X);\n",
    "    h = sigmoid(X * theta);\n",
    "    J = y' .* log(h) + (1 - y').*log(1 - h);\n",
    "    J = -J/N;\n",
    "    dJ = -X' * (y - h)/N;\n",
    "end"
   ]
  },
  {
   "cell_type": "code",
   "execution_count": 3,
   "metadata": {},
   "outputs": [],
   "source": [
    "## add regularization\n",
    "function [J, dJ] = costLogReg(theta, X, y, lambda = 0)\n",
    "    J = 0;\n",
    "    [N, D] = size(X);\n",
    "    h = sigmoid(X * theta);\n",
    "    J = y' * log(h) + (1 - y')*log(1 - h);\n",
    "    J = -J/N;\n",
    "    u = theta;\n",
    "    u(1) = 0;\n",
    "    J = J + lambda * u' * u;# add regurization\n",
    "    \n",
    "    dJ = -X' * (y - h)/N;\n",
    "    dJ = dJ + 2 * lambda*u;\n",
    "end"
   ]
  },
  {
   "cell_type": "code",
   "execution_count": 4,
   "metadata": {},
   "outputs": [
    {
     "name": "stdout",
     "output_type": "stream",
     "text": [
      "J =  0.69315\n",
      "dJ =\n",
      "\n",
      "  -0.55728\n",
      "  -1.59519\n",
      "  -3.00128\n",
      "\n"
     ]
    }
   ],
   "source": [
    "A = load('wdbc.txt');\n",
    "X = A(:,3:5);\n",
    "[N, D] = size(X);\n",
    "y = A(:, 2);\n",
    "theta_0 = zeros(D, 1);\n",
    "[J, dJ] = costLogReg(theta_0, X, y, 0.1)"
   ]
  },
  {
   "cell_type": "code",
   "execution_count": 5,
   "metadata": {},
   "outputs": [
    {
     "name": "stdout",
     "output_type": "stream",
     "text": [
      "options =\n",
      "\n",
      "  scalar structure containing the fields:\n",
      "\n",
      "    GradObj = on\n",
      "\n",
      "best_theta =\n",
      "\n",
      "   4.34934\n",
      "   0.10116\n",
      "  -0.68587\n",
      "\n",
      "minJ =  0.47238\n"
     ]
    }
   ],
   "source": [
    "options = optimset('GradObj', 'on')\n",
    "[best_theta, minJ] = fminunc(@(t)costLogReg(t, X, y, 0.1), theta_0, options)"
   ]
  },
  {
   "cell_type": "code",
   "execution_count": 7,
   "metadata": {},
   "outputs": [],
   "source": [
    "function y = classify(x, theta)\n",
    "    h = sigmoid(x*theta);\n",
    "    d = [0, 1];\n",
    "    P = h .^ (d + 1) .* ((1 - h).^d)\n",
    "    y = max(P);\n",
    "    idx = (P == y)\n",
    "end"
   ]
  },
  {
   "cell_type": "code",
   "execution_count": 8,
   "metadata": {},
   "outputs": [
    {
     "name": "stdout",
     "output_type": "stream",
     "text": [
      "P =\n",
      "\n",
      "   0.007175687   0.000051121\n",
      "\n",
      "idx =\n",
      "\n",
      "  1  0\n",
      "\n",
      "y =  0.0071757\n"
     ]
    }
   ],
   "source": [
    "x = X(1, :);\n",
    "y = classify(x, best_theta)"
   ]
  },
  {
   "cell_type": "code",
   "execution_count": null,
   "metadata": {},
   "outputs": [],
   "source": []
  }
 ],
 "metadata": {
  "kernelspec": {
   "display_name": "Octave",
   "language": "octave",
   "name": "octave"
  },
  "language_info": {
   "file_extension": ".m",
   "help_links": [
    {
     "text": "GNU Octave",
     "url": "https://www.gnu.org/software/octave/support.html"
    },
    {
     "text": "Octave Kernel",
     "url": "https://github.com/Calysto/octave_kernel"
    },
    {
     "text": "MetaKernel Magics",
     "url": "https://metakernel.readthedocs.io/en/latest/source/README.html"
    }
   ],
   "mimetype": "text/x-octave",
   "name": "octave",
   "version": "5.1.0"
  }
 },
 "nbformat": 4,
 "nbformat_minor": 2
}
