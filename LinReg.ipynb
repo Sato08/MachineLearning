{
 "cells": [
  {
   "cell_type": "code",
   "execution_count": 1,
   "metadata": {},
   "outputs": [],
   "source": [
    "function theta = train(X, y)\n",
    "    # normal equation\n",
    "    theta = inv(X' * X) * X' * y;\n",
    "endfunction"
   ]
  },
  {
   "cell_type": "code",
   "execution_count": 2,
   "metadata": {},
   "outputs": [],
   "source": [
    "function y = classify(x, theta, t = 0.5)\n",
    "    value = x*theta;\n",
    "    if (value <= t)\n",
    "        y = 0;\n",
    "    else y = 1;\n",
    "    endif\n",
    "endfunction"
   ]
  },
  {
   "cell_type": "code",
   "execution_count": 3,
   "metadata": {},
   "outputs": [],
   "source": [
    "function acc = eval(X, y, theta, t = 0.5)\n",
    "    y_hat = X*theta;\n",
    "    prediction = y_hat > t;\n",
    "    match = prediction == y;\n",
    "    acc = sum(match)/length(y);\n",
    "endfunction"
   ]
  },
  {
   "cell_type": "code",
   "execution_count": 4,
   "metadata": {},
   "outputs": [],
   "source": [
    "function linReg\n",
    "    A = load('wdbc.txt');\n",
    "    y = A(:, 2);\n",
    "    N = length(y);\n",
    "    X = [ones(N, 1), A(:, 3: end)]; #take first 10 features\n",
    "    theta = train(X, y)\n",
    "    x1 = X(1, :);\n",
    "    y1_hat = x1*theta\n",
    "    #y = classify(x1, theta)\n",
    "    acc = eval(X, y, theta)\n",
    "    ts = 0: 0.01:1;\n",
    "    as = zeros(length(ts), 1);\n",
    "    for i = 1: length(ts)\n",
    "        as(i) = eval(X, y, theta, ts(i));\n",
    "    endfor\n",
    "    plot(ts, as, '*r')\n",
    "    xlabel('classification threshold')\n",
    "    ylabel('accuracy')\n",
    "    [best_a, best_t] = max(as);\n",
    "    printf('best accuracy = %0.4f\\n', best_a)\n",
    "    printf('best threshold = %0.4f\\n', ts(best_t))\n",
    "  \n",
    "endfunction"
   ]
  },
  {
   "cell_type": "code",
   "execution_count": 5,
   "metadata": {},
   "outputs": [
    {
     "name": "stdout",
     "output_type": "stream",
     "text": [
      "theta =\n",
      "\n",
      "    3.02181174\n",
      "    0.21777206\n",
      "   -0.00454547\n",
      "   -0.02373986\n",
      "   -0.00031783\n",
      "   -0.08468914\n",
      "    4.22203525\n",
      "   -1.39799728\n",
      "   -2.14183303\n",
      "   -0.10270920\n",
      "   -0.03326161\n",
      "   -0.43495593\n",
      "    0.00675847\n",
      "    0.02252026\n",
      "    0.00092322\n",
      "  -15.85432075\n",
      "   -0.06490341\n",
      "    3.56546799\n",
      "  -10.56795131\n",
      "   -1.69734069\n",
      "    7.14644016\n",
      "   -0.19518312\n",
      "   -0.00715938\n",
      "    0.00243505\n",
      "    0.00101122\n",
      "   -0.54285686\n",
      "   -0.06715829\n",
      "   -0.38119121\n",
      "   -0.46430990\n",
      "   -0.55678755\n",
      "   -4.30348309\n",
      "\n",
      "y1_hat = -0.045575\n",
      "acc =  0.96485\n",
      "best accuracy = 0.9807\n",
      "best threshold = 0.5900\n"
     ]
    },
    {
     "data": {
      "image/png": "[encoded data removed]",
      "text/plain": [
       "<IPython.core.display.Image object>"
      ]
     },
     "metadata": {},
     "output_type": "display_data"
    }
   ],
   "source": [
    "linReg"
   ]
  },
  {
   "cell_type": "code",
   "execution_count": null,
   "metadata": {},
   "outputs": [],
   "source": []
  }
 ],
 "metadata": {
  "kernelspec": {
   "display_name": "Octave",
   "language": "octave",
   "name": "octave"
  },
  "language_info": {
   "file_extension": ".m",
   "help_links": [
    {
     "text": "GNU Octave",
     "url": "https://www.gnu.org/software/octave/support.html"
    },
    {
     "text": "Octave Kernel",
     "url": "https://github.com/Calysto/octave_kernel"
    },
    {
     "text": "MetaKernel Magics",
     "url": "https://metakernel.readthedocs.io/en/latest/source/README.html"
    }
   ],
   "mimetype": "text/x-octave",
   "name": "octave",
   "version": "5.1.0"
  }
 },
 "nbformat": 4,
 "nbformat_minor": 2
}
