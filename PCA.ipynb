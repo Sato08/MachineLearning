{
 "cells": [
  {
   "cell_type": "markdown",
   "metadata": {},
   "source": [
    "#### e = eig(A) returns a column vector containing the eigenvalues of square matrix A"
   ]
  },
  {
   "cell_type": "code",
   "execution_count": 1,
   "metadata": {},
   "outputs": [
    {
     "name": "stdout",
     "output_type": "stream",
     "text": [
      "X =\n",
      "\n",
      "   2.50000   2.40000\n",
      "   0.50000   0.70000\n",
      "   2.20000   2.90000\n",
      "   1.90000   2.20000\n",
      "   3.10000   3.00000\n",
      "   2.30000   2.70000\n",
      "   2.00000   1.60000\n",
      "   1.00000   1.10000\n",
      "   1.50000   1.60000\n",
      "   1.10000   0.90000\n",
      "\n"
     ]
    }
   ],
   "source": [
    "X = [2.5, 0.5, 2.2, 1.9, 3.1, 2.3, 2.0, 1.0, 1.5, 1.1; 2.4, 0.7, 2.9, 2.2, 3.0, 2.7, 1.6, 1.1, 1.6, 0.9]'"
   ]
  },
  {
   "cell_type": "code",
   "execution_count": 2,
   "metadata": {},
   "outputs": [],
   "source": [
    "function pac(X)\n",
    "    [N, D] = size(X);\n",
    "    x_bar = 1/N * sum(X);\n",
    "    X_bar = X .- x_bar;\n",
    "    S = (X_bar' * X_bar)/(N - 1);\n",
    "    [V,D] = eig(S);\n",
    "    v = diag(D);\n",
    "    [~, order] = sort(v, 'descend');\n",
    "    theta = V(:, order)\n",
    "    Z = X_bar * theta\n",
    "    \n",
    "    d = 2; % d tự chọn\n",
    "    theta_x = V(:, order(1: 1))\n",
    "    Z_x = X_bar * theta_x\n",
    "endfunction"
   ]
  },
  {
   "cell_type": "code",
   "execution_count": 3,
   "metadata": {},
   "outputs": [
    {
     "name": "stdout",
     "output_type": "stream",
     "text": [
      "theta =\n",
      "\n",
      "   0.67787  -0.73518\n",
      "   0.73518   0.67787\n",
      "\n",
      "Z =\n",
      "\n",
      "   0.827970  -0.175115\n",
      "  -1.777580   0.142857\n",
      "   0.992197   0.384375\n",
      "   0.274210   0.130417\n",
      "   1.675801  -0.209498\n",
      "   0.912949   0.175282\n",
      "  -0.099109  -0.349825\n",
      "  -1.144572   0.046417\n",
      "  -0.438046   0.017765\n",
      "  -1.223821  -0.162675\n",
      "\n",
      "theta_x =\n",
      "\n",
      "   0.67787\n",
      "   0.73518\n",
      "\n",
      "Z_x =\n",
      "\n",
      "   0.827970\n",
      "  -1.777580\n",
      "   0.992197\n",
      "   0.274210\n",
      "   1.675801\n",
      "   0.912949\n",
      "  -0.099109\n",
      "  -1.144572\n",
      "  -0.438046\n",
      "  -1.223821\n",
      "\n"
     ]
    }
   ],
   "source": [
    "pac(X)"
   ]
  },
  {
   "cell_type": "code",
   "execution_count": null,
   "metadata": {},
   "outputs": [],
   "source": []
  }
 ],
 "metadata": {
  "kernelspec": {
   "display_name": "Octave",
   "language": "octave",
   "name": "octave"
  },
  "language_info": {
   "file_extension": ".m",
   "help_links": [
    {
     "text": "GNU Octave",
     "url": "https://www.gnu.org/software/octave/support.html"
    },
    {
     "text": "Octave Kernel",
     "url": "https://github.com/Calysto/octave_kernel"
    },
    {
     "text": "MetaKernel Magics",
     "url": "https://metakernel.readthedocs.io/en/latest/source/README.html"
    }
   ],
   "mimetype": "text/x-octave",
   "name": "octave",
   "version": "5.1.0"
  }
 },
 "nbformat": 4,
 "nbformat_minor": 2
}
