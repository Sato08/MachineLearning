{
 "cells": [
  {
   "cell_type": "code",
   "execution_count": 1,
   "metadata": {},
   "outputs": [],
   "source": [
    "function [z, mu] = kmeans(K, X)\n",
    "    [N, D] = size(X);\n",
    "    z = zeros(N, 1);\n",
    "    mu = ones(D, K);\n",
    "    distance = zeros(N, K);\n",
    "    for t = 1: 10\n",
    "        for i = 1: N\n",
    "           for k = 1: K\n",
    "               distance(i, k) = norm(X(i, :) - mu(:, k)');\n",
    "           endfor\n",
    "           [~, j] = min(distance(i, :));\n",
    "           z(i) = j\n",
    "        endfor\n",
    "        for k = 1: K\n",
    "            z_k = (z == k);\n",
    "            if(sum(z_k) > 0)\n",
    "                 mu(:, k) = mean(X(z_k, :))';\n",
    "            endif\n",
    "           \n",
    "        endfor\n",
    "    endfor\n",
    "endfunction"
   ]
  },
  {
   "cell_type": "code",
   "execution_count": 2,
   "metadata": {},
   "outputs": [
    {
     "name": "stderr",
     "output_type": "stream",
     "text": [
      "IOPub data rate exceeded.\n",
      "The notebook server will temporarily stop sending output\n",
      "to the client in order to avoid crashing it.\n",
      "To change this limit, set the config variable\n",
      "`--NotebookApp.iopub_data_rate_limit`.\n",
      "\n",
      "Current values:\n",
      "NotebookApp.iopub_data_rate_limit=1000000.0 (bytes/sec)\n",
      "NotebookApp.rate_limit_window=3.0 (secs)\n",
      "\n"
     ]
    },
    {
     "data": {
      "image/png": "[encoded data removed]",
      "text/plain": [
       "<IPython.core.display.Image object>"
      ]
     },
     "metadata": {},
     "output_type": "display_data"
    }
   ],
   "source": [
    "A = load('faithful.txt');\n",
    "X = A(:,2: 3);\n",
    "K = 2;\n",
    "[z, mu] = kmeans(K, X);\n",
    "plot(X(:, 1), X(:, 2), 'ob')\n",
    "hold on\n",
    "plot(mu(1, :), mu(2, :), 'sr')"
   ]
  },
  {
   "cell_type": "code",
   "execution_count": null,
   "metadata": {},
   "outputs": [],
   "source": []
  },
  {
   "cell_type": "code",
   "execution_count": null,
   "metadata": {},
   "outputs": [],
   "source": []
  }
 ],
 "metadata": {
  "kernelspec": {
   "display_name": "Octave",
   "language": "octave",
   "name": "octave"
  },
  "language_info": {
   "file_extension": ".m",
   "help_links": [
    {
     "text": "GNU Octave",
     "url": "https://www.gnu.org/software/octave/support.html"
    },
    {
     "text": "Octave Kernel",
     "url": "https://github.com/Calysto/octave_kernel"
    },
    {
     "text": "MetaKernel Magics",
     "url": "https://metakernel.readthedocs.io/en/latest/source/README.html"
    }
   ],
   "mimetype": "text/x-octave",
   "name": "octave",
   "version": "5.1.0"
  }
 },
 "nbformat": 4,
 "nbformat_minor": 2
}
